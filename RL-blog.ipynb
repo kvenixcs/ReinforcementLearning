{
 "cells": [
  {
   "cell_type": "markdown",
   "metadata": {},
   "source": [
    "# Deep Q learning\n",
    "Jesse Clark "
   ]
  },
  {
   "cell_type": "code",
   "execution_count": 230,
   "metadata": {},
   "outputs": [],
   "source": [
    "%qtconsole\n",
    "%matplotlib inline"
   ]
  },
  {
   "cell_type": "code",
   "execution_count": 222,
   "metadata": {},
   "outputs": [],
   "source": [
    "import RL_Functions as Functions\n",
    "import GameEnv\n",
    "import numpy as np\n",
    "import matplotlib.pyplot as plt\n",
    "from collections import defaultdict"
   ]
  },
  {
   "cell_type": "markdown",
   "metadata": {},
   "source": [
    "## Some parameters "
   ]
  },
  {
   "cell_type": "markdown",
   "metadata": {},
   "source": [
    "### Warehouse/game"
   ]
  },
  {
   "cell_type": "code",
   "execution_count": 223,
   "metadata": {},
   "outputs": [],
   "source": [
    "parameters = defaultdict(lambda: [])\n",
    "# x dimension in pixels\n",
    "parameters['nx'] = 17#32#17#32#17\n",
    "# y dimension\n",
    "parameters['ny'] = 11#18#11*2\n",
    "# number of previous frames to use for s\n",
    "parameters['n_frames'] = 4\n",
    "# number of items to collect per player\n",
    "parameters['n_items'] = 5#*2\n",
    "# number of players\n",
    "parameters['n_players'] = 2#3\n",
    "# number of allowed actions (up,down,left,right)\n",
    "parameters['n_actions'] = 4\n",
    "\n",
    "# a list of cords for the obstacle locations [[y1,x1],[y2,x2]...]\n",
    "parameters['wall_loc'] = []"
   ]
  },
  {
   "cell_type": "markdown",
   "metadata": {},
   "source": [
    "### Q network"
   ]
  },
  {
   "cell_type": "code",
   "execution_count": 224,
   "metadata": {},
   "outputs": [],
   "source": [
    "# we use a seperate channel for the game (3 in total) - can also map to a single frame\n",
    "parameters['img_channels'] = parameters['n_frames']*3\n",
    "# number of conv filters layer 1\n",
    "parameters['n_conv_filt1'] = 32\n",
    "# number of conv filters layer 2\n",
    "parameters['n_conv_filt2'] = 64\n",
    "# number of conv filters layer 3\n",
    "parameters['n_conv_filt3'] = 64\n",
    "# number units in dense layer\n",
    "parameters['n_dense1'] = 512\n",
    "\n",
    "parameters['opt_loss'] = 'mse'\n",
    "# learning rate\n",
    "parameters['learning_rate'] = .001"
   ]
  },
  {
   "cell_type": "markdown",
   "metadata": {},
   "source": [
    "### Create Q network"
   ]
  },
  {
   "cell_type": "code",
   "execution_count": 225,
   "metadata": {},
   "outputs": [],
   "source": [
    "model = Functions.create_model(parameters['img_channels'], parameters['ny'], parameters['nx'],n_conv1=parameters['n_conv_filt1'],\n",
    "                               n_conv2 = parameters['n_conv_filt2'], n_conv3=parameters['n_conv_filt3'], n_out1=parameters['n_dense1'],\n",
    "                               lr=parameters['learning_rate'], n_actions=parameters['n_actions'], loss=parameters['opt_loss'] )"
   ]
  },
  {
   "cell_type": "code",
   "execution_count": null,
   "metadata": {},
   "outputs": [],
   "source": [
    "# altertanatively load an existing model\n",
    "#model_l = Functions.load_model('/the_name_of_a_saved_model', loss=parameters['opt_loss'], optimizer='adam')\n",
    "# maybe transfer part of the model from model_l to model\n",
    "# model = Functions.transfer_conv_weights(model_l, model)\n",
    "#"
   ]
  },
  {
   "cell_type": "code",
   "execution_count": 226,
   "metadata": {},
   "outputs": [],
   "source": [
    "# store the network and copies for the target and best \n",
    "parameters['model'] = model\n",
    "parameters['model_target'] = Functions.create_duplicate_model(model)\n",
    "parameters['model_best'] = Functions.create_duplicate_model(model)"
   ]
  },
  {
   "cell_type": "markdown",
   "metadata": {},
   "source": [
    "### Other parameters"
   ]
  },
  {
   "cell_type": "code",
   "execution_count": null,
   "metadata": {},
   "outputs": [],
   "source": [
    "# store the replay memory and model loss\n",
    "parameters['replay'] = []\n",
    "parameters['loss'] = []"
   ]
  },
  {
   "cell_type": "code",
   "execution_count": 285,
   "metadata": {},
   "outputs": [],
   "source": [
    "# term conditions\n",
    "# max moves before terminating a game\n",
    "parameters['max_moves'] = 300\n",
    "\n",
    "# use DDQ\n",
    "parameters['dqn'] = True\n",
    "\n",
    "# number of frames to observe before training\n",
    "parameters['observe'] = 10000\n",
    "\n",
    "# initial epsilon - explore vs exploit\n",
    "parameters['epsilon'] = 1.0\n",
    "\n",
    "# lowest epsilon - also use this for playing\n",
    "parameters['epsilon_min'] = .05\n",
    "\n",
    "# when to stop annealing epsilon - after this many games\n",
    "parameters['epsilon_stop'] = 2000\n",
    "\n",
    "# batch size of previous frames\n",
    "parameters['batch_size'] = 32\n",
    "\n",
    "# how many past experiences to store\n",
    "parameters['replay_buffer'] = 28000\n",
    "\n",
    "# number of games to play\n",
    "parameters['n_games'] = 250\n",
    "\n",
    "# how many frames between updating target network\n",
    "parameters['update_target'] = 250\n",
    "\n",
    "# should the game terminate with a collision? will only terminate with max_moves when False\n",
    "parameters['term_on_collision'] = False"
   ]
  },
  {
   "cell_type": "markdown",
   "metadata": {},
   "source": [
    "## Now we train by playing"
   ]
  },
  {
   "cell_type": "code",
   "execution_count": null,
   "metadata": {},
   "outputs": [
    {
     "name": "stdout",
     "output_type": "stream",
     "text": [
      "Game #: 41\n",
      "Moves this round 300\n",
      "Items collected 4\n",
      "none\n",
      "Loss 0.00649156887084\n",
      "Avg. items 2.5\n",
      "Avg. score 0.25\n",
      "Epsilon 0.979\n"
     ]
    }
   ],
   "source": [
    "# should be able to get good results after ~ 1000 games with default params and reasonable after a couple hundred\n",
    "parameters = Functions.train(parameters)"
   ]
  },
  {
   "cell_type": "markdown",
   "metadata": {},
   "source": [
    "## Play a game\n",
    "The output of the game is stored in ```parameters[played_frames]```."
   ]
  },
  {
   "cell_type": "code",
   "execution_count": 284,
   "metadata": {},
   "outputs": [
    {
     "name": "stdout",
     "output_type": "stream",
     "text": [
      "Moves this round 111\n",
      "Items collected 7\n",
      "repeated actions\n",
      "Finished\n"
     ]
    }
   ],
   "source": [
    "parameters = Functions.play(parameters)"
   ]
  },
  {
   "cell_type": "markdown",
   "metadata": {},
   "source": [
    "### Output the game as images"
   ]
  },
  {
   "cell_type": "code",
   "execution_count": 270,
   "metadata": {},
   "outputs": [],
   "source": [
    "parameters['images_dir'] = 'images/'\n",
    "GameEnv.output_sequence_RGB(parameters['played_frames'], parameters['images_dir'], n_players = parameters['n_players'])"
   ]
  },
  {
   "cell_type": "markdown",
   "metadata": {},
   "source": [
    "## Save the model"
   ]
  },
  {
   "cell_type": "code",
   "execution_count": 210,
   "metadata": {},
   "outputs": [
    {
     "name": "stdout",
     "output_type": "stream",
     "text": [
      "[WARNING] /Users/jesseclark/Documents/BlogPost/code/models/model_17_11_np2 1.00.h5 already exists - overwrite? [y/n]n\n"
     ]
    }
   ],
   "source": [
    "m_name = 'models/model_%s' % parameters['nx']+'_%s' % parameters['ny'] +'_np%s' %parameters['n_players'] +'_%.2f'%parameters['best_score']\n",
    "Functions.save_model(parameters['model_best'],m_name)"
   ]
  },
  {
   "cell_type": "markdown",
   "metadata": {},
   "source": [
    "## Plot some stuff"
   ]
  },
  {
   "cell_type": "code",
   "execution_count": 216,
   "metadata": {},
   "outputs": [
    {
     "data": {
      "text/plain": [
       "[<matplotlib.lines.Line2D at 0x13568e090>]"
      ]
     },
     "execution_count": 216,
     "output_type": "execute_result",
     "metadata": {}
    },
    {
     "data": {
      "image/png": "[encoded data removed]"
     },
     "output_type": "display_data",
     "metadata": {}
    }
   ],
   "source": [
    "# plot the score (normalized items collected)\n",
    "plt.plot(parameters['norm_items_collected'])"
   ]
  },
  {
   "cell_type": "code",
   "execution_count": 219,
   "metadata": {},
   "outputs": [
    {
     "data": {
      "text/plain": [
       "[<matplotlib.lines.Line2D at 0x10d2189d0>]"
      ]
     },
     "execution_count": 219,
     "output_type": "execute_result",
     "metadata": {}
    },
    {
     "data": {
      "image/png": "[encoded data removed]"
     },
     "output_type": "display_data",
     "metadata": {}
    }
   ],
   "source": [
    "# plot model loss\n",
    "plt.plot(np.log(parameters['loss']))"
   ]
  }
 ],
 "metadata": {
  "kernelspec": {
   "display_name": "Python 2",
   "language": "python",
   "name": "python2"
  },
  "language_info": {
   "codemirror_mode": {
    "name": "ipython",
    "version": 2.0
   },
   "file_extension": ".py",
   "mimetype": "text/x-python",
   "name": "python",
   "nbconvert_exporter": "python",
   "pygments_lexer": "ipython2",
   "version": "2.7.11"
  },
  "widgets": {
   "state": {},
   "version": "1.1.1"
  }
 },
 "nbformat": 4,
 "nbformat_minor": 0
}